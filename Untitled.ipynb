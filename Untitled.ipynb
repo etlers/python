{
 "cells": [
  {
   "cell_type": "code",
   "execution_count": 19,
   "id": "a1db599c-9f63-42cc-a322-b296d5b965e0",
   "metadata": {},
   "outputs": [],
   "source": [
    "import os\n",
    "\n",
    "# remove_string = \" - 뮤직백화점 - 구글검색 토렌트노리\"\n",
    "remove_string = \" - 구글검색 짱토렌트\"\n",
    "dirname = \"D:\\\\[벅스] 2021년 10월 10일 실시간 TOP 100\\\\\"\n",
    "# dirname = \"C:\\\\Users\\\\etlers\\\\Music\\\\\"\n",
    "# dirname = \"C:\\\\Users\\\\etlers\\\\Music\\\\크리스마스 캐롤 베스트 100\\\\\"\n",
    "\n",
    "def remove_nums(nm):\n",
    "    list_nm = nm.split(\" \")[1:]\n",
    "    result = \"\"\n",
    "    for nm in list_nm:\n",
    "        result += nm + \" \"\n",
    "\n",
    "    return result.strip()\n",
    "\n",
    "for (path, dir, files) in os.walk(dirname):\n",
    "    for filename in files:\n",
    "        ext = os.path.splitext(filename)[-1].lower()\n",
    "        if (ext == '.mp3' or ext == '.flac'):\n",
    "            chg_string = filename.replace(remove_string, \"\").replace(\" - 구글검색 짱토\", \"\")\n",
    "            old_file = f'{path}\\\\{filename}'\n",
    "            new_file = f'{path}\\\\{remove_nums(chg_string)}'\n",
    "            os.rename(old_file, new_file)\n",
    "        elif ext == '.jpeg':\n",
    "            old_file = f'{path}\\\\{filename}'\n",
    "            os.remove(old_file)\n",
    "        \n",
    "        remove_nums(nm)"
   ]
  },
  {
   "cell_type": "code",
   "execution_count": 1,
   "id": "087df5f8-eb26-4fe9-b131-1763b3c25b82",
   "metadata": {},
   "outputs": [
    {
     "data": {
      "text/plain": [
       "4"
      ]
     },
     "execution_count": 1,
     "metadata": {},
     "output_type": "execute_result"
    }
   ],
   "source": [
    "list_a = [1,2,3,4]\n",
    "cnt = 0\n",
    "for _ in list_a:\n",
    "    cnt += 1\n",
    "    \n",
    "cnt"
   ]
  },
  {
   "cell_type": "code",
   "execution_count": null,
   "id": "d7953775-e3e0-47d6-af39-44c8d51e5705",
   "metadata": {},
   "outputs": [],
   "source": []
  }
 ],
 "metadata": {
  "kernelspec": {
   "display_name": "Python 3",
   "language": "python",
   "name": "python3"
  },
  "language_info": {
   "codemirror_mode": {
    "name": "ipython",
    "version": 3
   },
   "file_extension": ".py",
   "mimetype": "text/x-python",
   "name": "python",
   "nbconvert_exporter": "python",
   "pygments_lexer": "ipython3",
   "version": "3.8.8"
  }
 },
 "nbformat": 4,
 "nbformat_minor": 5
}
